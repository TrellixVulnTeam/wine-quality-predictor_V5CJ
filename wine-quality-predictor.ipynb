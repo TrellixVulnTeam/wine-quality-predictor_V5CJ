{
 "cells": [
  {
   "cell_type": "markdown",
   "id": "e4bd90d7",
   "metadata": {},
   "source": [
    "# Wine Quality Predictor\n",
    "\n",
    "This tool predicts the quality of wine on a scale of 1–10. The prediction is based on a dataset that contains chemical properties and ratings for red and white Portuguese *Vinho Verde* wine, from the UCI Machine Learning Repository. The rating for each wine was determined by a professional wine taster."
   ]
  },
  {
   "cell_type": "code",
   "execution_count": 13,
   "id": "deac6f8f",
   "metadata": {},
   "outputs": [],
   "source": [
    "########################################################################\n",
    "# Press the Voila icon in the toolbar to run this as a web application #\n",
    "########################################################################"
   ]
  },
  {
   "cell_type": "code",
   "execution_count": 7,
   "id": "d7ce28ef",
   "metadata": {},
   "outputs": [],
   "source": [
    "import pandas as pd\n",
    "import numpy as np\n",
    "import matplotlib.pyplot as plt\n",
    "%matplotlib inline\n",
    "import ipywidgets as widgets\n",
    "from sklearn.preprocessing import OneHotEncoder\n",
    "from sklearn.compose import ColumnTransformer\n",
    "from sklearn.ensemble import RandomForestClassifier\n",
    "from sklearn.model_selection import train_test_split\n",
    "from IPython.display import display, clear_output\n",
    "\n",
    "# Prep data\n",
    "# Import data file\n",
    "wine_data = pd.read_csv('wine-quality-white-and-red.csv')\n",
    "\n",
    "# Create x (feautres) and y (labels)\n",
    "x = wine_data.drop('quality', axis=1)\n",
    "y = wine_data['quality']\n",
    "\n",
    "# Encode red and white wine categories as numbers\n",
    "transformer = ColumnTransformer([('one_hot', OneHotEncoder(), ['type'])], remainder='passthrough')\n",
    "transformed_x = transformer.fit_transform(x)\n",
    "\n",
    "# Prep machine learning model and hyperparameters\n",
    "# Use the random forest classifier model to predict wine quality\n",
    "np.random.seed(244)\n",
    "clf = RandomForestClassifier(n_estimators=30)"
   ]
  },
  {
   "cell_type": "markdown",
   "id": "4f3a0381",
   "metadata": {},
   "source": [
    "## Instructions\n",
    "\n",
    "Enter the known chemical properties of the wine in the fields below. By default, these fields contain median values. If a property is unknown, keep the field populated with the median value.\n",
    "\n",
    "The predicted wine quality is a value on a scale of 1-10."
   ]
  },
  {
   "cell_type": "code",
   "execution_count": 9,
   "id": "ba92dc13",
   "metadata": {},
   "outputs": [
    {
     "data": {
      "application/vnd.jupyter.widget-view+json": {
       "model_id": "572cf81261ca4b41a19a23e50c123590",
       "version_major": 2,
       "version_minor": 0
      },
      "text/plain": [
       "Dropdown(description='Type:', options=(('red', [0, 1]), ('white', [1, 0])), value=[0, 1])"
      ]
     },
     "metadata": {},
     "output_type": "display_data"
    },
    {
     "data": {
      "application/vnd.jupyter.widget-view+json": {
       "model_id": "81619a35899d477ea2fb02cd4243f8aa",
       "version_major": 2,
       "version_minor": 0
      },
      "text/plain": [
       "FloatText(value=7.0, description='Fixed acidity:')"
      ]
     },
     "metadata": {},
     "output_type": "display_data"
    },
    {
     "data": {
      "application/vnd.jupyter.widget-view+json": {
       "model_id": "b605a057d4f84a47ab271da89ed342cb",
       "version_major": 2,
       "version_minor": 0
      },
      "text/plain": [
       "FloatText(value=0.29, description='Volatile acidity:')"
      ]
     },
     "metadata": {},
     "output_type": "display_data"
    },
    {
     "data": {
      "application/vnd.jupyter.widget-view+json": {
       "model_id": "0275b49ab3484f9cb5ad5d39fbd9b55b",
       "version_major": 2,
       "version_minor": 0
      },
      "text/plain": [
       "FloatText(value=0.31, description='Citric acid:')"
      ]
     },
     "metadata": {},
     "output_type": "display_data"
    },
    {
     "data": {
      "application/vnd.jupyter.widget-view+json": {
       "model_id": "3e3889eebb5d4edc99e8101665223425",
       "version_major": 2,
       "version_minor": 0
      },
      "text/plain": [
       "FloatText(value=3.0, description='Sugar (g):')"
      ]
     },
     "metadata": {},
     "output_type": "display_data"
    },
    {
     "data": {
      "application/vnd.jupyter.widget-view+json": {
       "model_id": "14ee8863ddf54bd4881806fcb97dffa0",
       "version_major": 2,
       "version_minor": 0
      },
      "text/plain": [
       "FloatText(value=0.047, description='Chlorides:')"
      ]
     },
     "metadata": {},
     "output_type": "display_data"
    },
    {
     "data": {
      "application/vnd.jupyter.widget-view+json": {
       "model_id": "9c93b75bc51f43acb0f469c100f4235e",
       "version_major": 2,
       "version_minor": 0
      },
      "text/plain": [
       "FloatText(value=29.0, description='Free sulfur dioxide:')"
      ]
     },
     "metadata": {},
     "output_type": "display_data"
    },
    {
     "data": {
      "application/vnd.jupyter.widget-view+json": {
       "model_id": "960f3063e2784fdbb5a963f4caa75a1a",
       "version_major": 2,
       "version_minor": 0
      },
      "text/plain": [
       "FloatText(value=118.0, description='Total sulfur dioxide:')"
      ]
     },
     "metadata": {},
     "output_type": "display_data"
    },
    {
     "data": {
      "application/vnd.jupyter.widget-view+json": {
       "model_id": "b27b38a2c0704880bc138f4c142ed4ab",
       "version_major": 2,
       "version_minor": 0
      },
      "text/plain": [
       "FloatText(value=0.99489, description='Density:')"
      ]
     },
     "metadata": {},
     "output_type": "display_data"
    },
    {
     "data": {
      "application/vnd.jupyter.widget-view+json": {
       "model_id": "de79b125867e44aaba1d8fd4b3e8b67f",
       "version_major": 2,
       "version_minor": 0
      },
      "text/plain": [
       "FloatText(value=3.21, description='pH:')"
      ]
     },
     "metadata": {},
     "output_type": "display_data"
    },
    {
     "data": {
      "application/vnd.jupyter.widget-view+json": {
       "model_id": "6e385e425cae401cac3084cff8f742b9",
       "version_major": 2,
       "version_minor": 0
      },
      "text/plain": [
       "FloatText(value=0.51, description='Sulphates:')"
      ]
     },
     "metadata": {},
     "output_type": "display_data"
    },
    {
     "data": {
      "application/vnd.jupyter.widget-view+json": {
       "model_id": "ae084427b08245cca5ef3be668bce742",
       "version_major": 2,
       "version_minor": 0
      },
      "text/plain": [
       "FloatText(value=10.3, description='Alcohol (%):')"
      ]
     },
     "metadata": {},
     "output_type": "display_data"
    },
    {
     "data": {
      "application/vnd.jupyter.widget-view+json": {
       "model_id": "77e712e451754eff9861d3fd7c0773f0",
       "version_major": 2,
       "version_minor": 0
      },
      "text/plain": [
       "Button(description='Predict wine quality', style=ButtonStyle())"
      ]
     },
     "metadata": {},
     "output_type": "display_data"
    },
    {
     "data": {
      "application/vnd.jupyter.widget-view+json": {
       "model_id": "de68af9ecb364d288057e416d8482f08",
       "version_major": 2,
       "version_minor": 0
      },
      "text/plain": [
       "Output()"
      ]
     },
     "metadata": {},
     "output_type": "display_data"
    }
   ],
   "source": [
    "# Display form for user input\n",
    "# type\n",
    "type_input = widgets.Dropdown(\n",
    "    options=[('red', [0, 1]), ('white', [1, 0])],\n",
    "    value=[0, 1],\n",
    "    description='Type:',\n",
    ")\n",
    "\n",
    "# fixed acidity\n",
    "fixed_acid_input = widgets.FloatText(\n",
    "    description='Fixed acidity:',\n",
    "    value=7.0\n",
    ")\n",
    "\n",
    "# volatile acidity\n",
    "volatile_acid_input = widgets.FloatText(\n",
    "    description='Volatile acidity:',\n",
    "    value=0.29\n",
    ")\n",
    "\n",
    "# citric acid\n",
    "citric_acid_input = widgets.FloatText(\n",
    "    description='Citric acid:',\n",
    "    value=0.31\n",
    ")\n",
    "\n",
    "# residual sugar\n",
    "sugar_input = widgets.FloatText(\n",
    "    description='Sugar (g):',\n",
    "    value=3.0\n",
    ")\n",
    "\n",
    "# chlorides\n",
    "chlorides_input = widgets.FloatText(\n",
    "    description='Chlorides:',\n",
    "    value=0.047\n",
    ")\n",
    "\n",
    "# free sulfur dioxide\n",
    "free_sulfur_input = widgets.FloatText(\n",
    "    description='Free sulfur dioxide:',\n",
    "    value=29.0\n",
    ")\n",
    "\n",
    "# total sulfur dioxide\n",
    "total_sulfur_input = widgets.FloatText(\n",
    "    description='Total sulfur dioxide:',\n",
    "    value=118.0\n",
    ")\n",
    "\n",
    "# density\n",
    "density_input = widgets.FloatText(\n",
    "    description='Density:',\n",
    "    value=0.99489\n",
    ")\n",
    "\n",
    "# pH\n",
    "pH_input = widgets.FloatText(\n",
    "    description='pH:',\n",
    "    value=3.21\n",
    ")\n",
    "\n",
    "# sulphates\n",
    "sulphates_input = widgets.FloatText(\n",
    "    description='Sulphates:',\n",
    "    value=0.51\n",
    ")\n",
    "\n",
    "# alcohol\n",
    "alcohol_input = widgets.FloatText(\n",
    "    description='Alcohol (%):',\n",
    "    value=10.3\n",
    ")\n",
    "\n",
    "# button\n",
    "predict_button = widgets.Button(\n",
    "    description='Predict wine quality'\n",
    ")\n",
    "\n",
    "display(type_input)\n",
    "display(fixed_acid_input)\n",
    "display(volatile_acid_input)\n",
    "display(citric_acid_input)\n",
    "display(sugar_input)\n",
    "display(chlorides_input)\n",
    "display(free_sulfur_input)\n",
    "display(total_sulfur_input)\n",
    "display(density_input)\n",
    "display(pH_input)\n",
    "display(sulphates_input)\n",
    "display(alcohol_input)\n",
    "display(predict_button)\n",
    "\n",
    "'''\n",
    "Function to make a wine quality prediction from user input.\n",
    "'''\n",
    "def make_prediction(self):\n",
    "    global i\n",
    "    i+=1\n",
    "    with out:\n",
    "        clear_output(wait=True)\n",
    "        \n",
    "        # Split data into training (80%) and test (20%) sets\n",
    "        x_train, x_test, y_train, y_test = train_test_split(transformed_x, y, test_size=0.2)\n",
    "        clf.fit(x_train, y_train)\n",
    "    \n",
    "        # Get user values\n",
    "        user_type=type_input.value\n",
    "        fixed_acid=fixed_acid_input.value\n",
    "        volatile_acid=volatile_acid_input.value\n",
    "        citric_acid=citric_acid_input.value\n",
    "        sugar=sugar_input.value\n",
    "        chlorides=chlorides_input.value\n",
    "        free_sulfur=free_sulfur_input.value\n",
    "        total_sulfur=total_sulfur_input.value\n",
    "        density=density_input.value\n",
    "        pH=pH_input.value\n",
    "        sulphates=sulphates_input.value\n",
    "        alcohol=alcohol_input.value\n",
    "\n",
    "        # Generate array of x values\n",
    "        arr = [fixed_acid, volatile_acid, citric_acid, sugar, chlorides, free_sulfur, total_sulfur, density, pH, sulphates, alcohol]\n",
    "    \n",
    "        # Concatenate encoded type value\n",
    "        user_data = [np.concatenate((user_type, arr))]\n",
    "    \n",
    "        # Return prediction\n",
    "        quality_array = np.array(clf.predict(user_data))\n",
    "        quality_pred = quality_array[0]\n",
    "        print(f'Predicted wine quality: {quality_pred} out of 10\\n'\n",
    "                 f'Accuracy: {clf.score(x_test, y_test) * 100:.2f}%')\n",
    "i=0\n",
    "\n",
    "out = widgets.Output()\n",
    "display(out)\n",
    "\n",
    "# Make prediction on button click\n",
    "predict_button.on_click(make_prediction)"
   ]
  },
  {
   "cell_type": "markdown",
   "id": "128f2581",
   "metadata": {},
   "source": [
    "## Visualizations of wine quality data\n",
    "\n",
    "Use the following visualizations to examine and explore the data used to make this prediction.\n",
    "\n",
    "### Scatter plot: alcohol vs. quality\n",
    "\n",
    "Alcohol content is one of the factors that influences wine quality. This scatter plot shows the correlation."
   ]
  },
  {
   "cell_type": "code",
   "execution_count": 10,
   "id": "31ef3409",
   "metadata": {},
   "outputs": [
    {
     "data": {
      "image/png": "[encoded data removed]",
      "text/plain": [
       "<Figure size 720x576 with 1 Axes>"
      ]
     },
     "metadata": {
      "needs_background": "light"
     },
     "output_type": "display_data"
    }
   ],
   "source": [
    "plt.figure(figsize=(10,8))\n",
    "plt.scatter(x=wine_data['alcohol'], y=wine_data['quality'])\n",
    "plt.xlabel(\"Alcohol (%)\")\n",
    "plt.ylabel(\"Quality\")\n",
    "plt.show();"
   ]
  },
  {
   "cell_type": "markdown",
   "id": "1e6568ee",
   "metadata": {},
   "source": [
    "## Bar graph: distribution of wine quality\n",
    "\n",
    "This bar graph shows the number of red and white wines in the data set for each quality rating."
   ]
  },
  {
   "cell_type": "code",
   "execution_count": 11,
   "id": "e626547c",
   "metadata": {},
   "outputs": [
    {
     "data": {
      "image/png": "[encoded data removed]",
      "text/plain": [
       "<Figure size 720x576 with 1 Axes>"
      ]
     },
     "metadata": {
      "needs_background": "light"
     },
     "output_type": "display_data"
    }
   ],
   "source": [
    "ax = wine_data.groupby(['type','quality'])['quality'].count().unstack(0).plot.bar(figsize=(10,8))\n",
    "_ = ax.set_xlabel('Quality rating')\n",
    "_ = ax.set_ylabel('Number of wines');"
   ]
  },
  {
   "cell_type": "markdown",
   "id": "5eaa6f73",
   "metadata": {},
   "source": [
    "### Raw data\n",
    "\n",
    "This table shows some of the raw data used to generate the quality prediction and the visualizations. For the complete dataset, see the [Wine Quality Dataset](https://www.kaggle.com/ruthgn/wine-quality-data-set-red-white-wine) on Kaggle."
   ]
  },
  {
   "cell_type": "code",
   "execution_count": 12,
   "id": "b9b442cc",
   "metadata": {},
   "outputs": [
    {
     "data": {
      "text/html": [
       "<div>\n",
       "<style scoped>\n",
       "    .dataframe tbody tr th:only-of-type {\n",
       "        vertical-align: middle;\n",
       "    }\n",
       "\n",
       "    .dataframe tbody tr th {\n",
       "        vertical-align: top;\n",
       "    }\n",
       "\n",
       "    .dataframe thead th {\n",
       "        text-align: right;\n",
       "    }\n",
       "</style>\n",
       "<table border=\"1\" class=\"dataframe\">\n",
       "  <thead>\n",
       "    <tr style=\"text-align: right;\">\n",
       "      <th></th>\n",
       "      <th>type</th>\n",
       "      <th>fixed acidity</th>\n",
       "      <th>volatile acidity</th>\n",
       "      <th>citric acid</th>\n",
       "      <th>residual sugar</th>\n",
       "      <th>chlorides</th>\n",
       "      <th>free sulfur dioxide</th>\n",
       "      <th>total sulfur dioxide</th>\n",
       "      <th>density</th>\n",
       "      <th>pH</th>\n",
       "      <th>sulphates</th>\n",
       "      <th>alcohol</th>\n",
       "      <th>quality</th>\n",
       "    </tr>\n",
       "  </thead>\n",
       "  <tbody>\n",
       "    <tr>\n",
       "      <th>0</th>\n",
       "      <td>white</td>\n",
       "      <td>7.0</td>\n",
       "      <td>0.27</td>\n",
       "      <td>0.36</td>\n",
       "      <td>20.70</td>\n",
       "      <td>0.045</td>\n",
       "      <td>45.0</td>\n",
       "      <td>170.0</td>\n",
       "      <td>1.0010</td>\n",
       "      <td>3.00</td>\n",
       "      <td>0.45</td>\n",
       "      <td>8.8</td>\n",
       "      <td>6</td>\n",
       "    </tr>\n",
       "    <tr>\n",
       "      <th>1</th>\n",
       "      <td>white</td>\n",
       "      <td>6.3</td>\n",
       "      <td>0.30</td>\n",
       "      <td>0.34</td>\n",
       "      <td>1.60</td>\n",
       "      <td>0.049</td>\n",
       "      <td>14.0</td>\n",
       "      <td>132.0</td>\n",
       "      <td>0.9940</td>\n",
       "      <td>3.30</td>\n",
       "      <td>0.49</td>\n",
       "      <td>9.5</td>\n",
       "      <td>6</td>\n",
       "    </tr>\n",
       "    <tr>\n",
       "      <th>2</th>\n",
       "      <td>white</td>\n",
       "      <td>8.1</td>\n",
       "      <td>0.28</td>\n",
       "      <td>0.40</td>\n",
       "      <td>6.90</td>\n",
       "      <td>0.050</td>\n",
       "      <td>30.0</td>\n",
       "      <td>97.0</td>\n",
       "      <td>0.9951</td>\n",
       "      <td>3.26</td>\n",
       "      <td>0.44</td>\n",
       "      <td>10.1</td>\n",
       "      <td>6</td>\n",
       "    </tr>\n",
       "    <tr>\n",
       "      <th>3</th>\n",
       "      <td>white</td>\n",
       "      <td>7.2</td>\n",
       "      <td>0.23</td>\n",
       "      <td>0.32</td>\n",
       "      <td>8.50</td>\n",
       "      <td>0.058</td>\n",
       "      <td>47.0</td>\n",
       "      <td>186.0</td>\n",
       "      <td>0.9956</td>\n",
       "      <td>3.19</td>\n",
       "      <td>0.40</td>\n",
       "      <td>9.9</td>\n",
       "      <td>6</td>\n",
       "    </tr>\n",
       "    <tr>\n",
       "      <th>4</th>\n",
       "      <td>white</td>\n",
       "      <td>7.2</td>\n",
       "      <td>0.23</td>\n",
       "      <td>0.32</td>\n",
       "      <td>8.50</td>\n",
       "      <td>0.058</td>\n",
       "      <td>47.0</td>\n",
       "      <td>186.0</td>\n",
       "      <td>0.9956</td>\n",
       "      <td>3.19</td>\n",
       "      <td>0.40</td>\n",
       "      <td>9.9</td>\n",
       "      <td>6</td>\n",
       "    </tr>\n",
       "    <tr>\n",
       "      <th>5</th>\n",
       "      <td>white</td>\n",
       "      <td>8.1</td>\n",
       "      <td>0.28</td>\n",
       "      <td>0.40</td>\n",
       "      <td>6.90</td>\n",
       "      <td>0.050</td>\n",
       "      <td>30.0</td>\n",
       "      <td>97.0</td>\n",
       "      <td>0.9951</td>\n",
       "      <td>3.26</td>\n",
       "      <td>0.44</td>\n",
       "      <td>10.1</td>\n",
       "      <td>6</td>\n",
       "    </tr>\n",
       "    <tr>\n",
       "      <th>6</th>\n",
       "      <td>white</td>\n",
       "      <td>6.2</td>\n",
       "      <td>0.32</td>\n",
       "      <td>0.16</td>\n",
       "      <td>7.00</td>\n",
       "      <td>0.045</td>\n",
       "      <td>30.0</td>\n",
       "      <td>136.0</td>\n",
       "      <td>0.9949</td>\n",
       "      <td>3.18</td>\n",
       "      <td>0.47</td>\n",
       "      <td>9.6</td>\n",
       "      <td>6</td>\n",
       "    </tr>\n",
       "    <tr>\n",
       "      <th>7</th>\n",
       "      <td>white</td>\n",
       "      <td>7.0</td>\n",
       "      <td>0.27</td>\n",
       "      <td>0.36</td>\n",
       "      <td>20.70</td>\n",
       "      <td>0.045</td>\n",
       "      <td>45.0</td>\n",
       "      <td>170.0</td>\n",
       "      <td>1.0010</td>\n",
       "      <td>3.00</td>\n",
       "      <td>0.45</td>\n",
       "      <td>8.8</td>\n",
       "      <td>6</td>\n",
       "    </tr>\n",
       "    <tr>\n",
       "      <th>8</th>\n",
       "      <td>white</td>\n",
       "      <td>6.3</td>\n",
       "      <td>0.30</td>\n",
       "      <td>0.34</td>\n",
       "      <td>1.60</td>\n",
       "      <td>0.049</td>\n",
       "      <td>14.0</td>\n",
       "      <td>132.0</td>\n",
       "      <td>0.9940</td>\n",
       "      <td>3.30</td>\n",
       "      <td>0.49</td>\n",
       "      <td>9.5</td>\n",
       "      <td>6</td>\n",
       "    </tr>\n",
       "    <tr>\n",
       "      <th>9</th>\n",
       "      <td>white</td>\n",
       "      <td>8.1</td>\n",
       "      <td>0.22</td>\n",
       "      <td>0.43</td>\n",
       "      <td>1.50</td>\n",
       "      <td>0.044</td>\n",
       "      <td>28.0</td>\n",
       "      <td>129.0</td>\n",
       "      <td>0.9938</td>\n",
       "      <td>3.22</td>\n",
       "      <td>0.45</td>\n",
       "      <td>11.0</td>\n",
       "      <td>6</td>\n",
       "    </tr>\n",
       "    <tr>\n",
       "      <th>10</th>\n",
       "      <td>white</td>\n",
       "      <td>8.1</td>\n",
       "      <td>0.27</td>\n",
       "      <td>0.41</td>\n",
       "      <td>1.45</td>\n",
       "      <td>0.033</td>\n",
       "      <td>11.0</td>\n",
       "      <td>63.0</td>\n",
       "      <td>0.9908</td>\n",
       "      <td>2.99</td>\n",
       "      <td>0.56</td>\n",
       "      <td>12.0</td>\n",
       "      <td>5</td>\n",
       "    </tr>\n",
       "    <tr>\n",
       "      <th>11</th>\n",
       "      <td>white</td>\n",
       "      <td>8.6</td>\n",
       "      <td>0.23</td>\n",
       "      <td>0.40</td>\n",
       "      <td>4.20</td>\n",
       "      <td>0.035</td>\n",
       "      <td>17.0</td>\n",
       "      <td>109.0</td>\n",
       "      <td>0.9947</td>\n",
       "      <td>3.14</td>\n",
       "      <td>0.53</td>\n",
       "      <td>9.7</td>\n",
       "      <td>5</td>\n",
       "    </tr>\n",
       "    <tr>\n",
       "      <th>12</th>\n",
       "      <td>white</td>\n",
       "      <td>7.9</td>\n",
       "      <td>0.18</td>\n",
       "      <td>0.37</td>\n",
       "      <td>1.20</td>\n",
       "      <td>0.040</td>\n",
       "      <td>16.0</td>\n",
       "      <td>75.0</td>\n",
       "      <td>0.9920</td>\n",
       "      <td>3.18</td>\n",
       "      <td>0.63</td>\n",
       "      <td>10.8</td>\n",
       "      <td>5</td>\n",
       "    </tr>\n",
       "    <tr>\n",
       "      <th>13</th>\n",
       "      <td>white</td>\n",
       "      <td>6.6</td>\n",
       "      <td>0.16</td>\n",
       "      <td>0.40</td>\n",
       "      <td>1.50</td>\n",
       "      <td>0.044</td>\n",
       "      <td>48.0</td>\n",
       "      <td>143.0</td>\n",
       "      <td>0.9912</td>\n",
       "      <td>3.54</td>\n",
       "      <td>0.52</td>\n",
       "      <td>12.4</td>\n",
       "      <td>7</td>\n",
       "    </tr>\n",
       "    <tr>\n",
       "      <th>14</th>\n",
       "      <td>white</td>\n",
       "      <td>8.3</td>\n",
       "      <td>0.42</td>\n",
       "      <td>0.62</td>\n",
       "      <td>19.25</td>\n",
       "      <td>0.040</td>\n",
       "      <td>41.0</td>\n",
       "      <td>172.0</td>\n",
       "      <td>1.0002</td>\n",
       "      <td>2.98</td>\n",
       "      <td>0.67</td>\n",
       "      <td>9.7</td>\n",
       "      <td>5</td>\n",
       "    </tr>\n",
       "    <tr>\n",
       "      <th>15</th>\n",
       "      <td>white</td>\n",
       "      <td>6.6</td>\n",
       "      <td>0.17</td>\n",
       "      <td>0.38</td>\n",
       "      <td>1.50</td>\n",
       "      <td>0.032</td>\n",
       "      <td>28.0</td>\n",
       "      <td>112.0</td>\n",
       "      <td>0.9914</td>\n",
       "      <td>3.25</td>\n",
       "      <td>0.55</td>\n",
       "      <td>11.4</td>\n",
       "      <td>7</td>\n",
       "    </tr>\n",
       "    <tr>\n",
       "      <th>16</th>\n",
       "      <td>white</td>\n",
       "      <td>6.3</td>\n",
       "      <td>0.48</td>\n",
       "      <td>0.04</td>\n",
       "      <td>1.10</td>\n",
       "      <td>0.046</td>\n",
       "      <td>30.0</td>\n",
       "      <td>99.0</td>\n",
       "      <td>0.9928</td>\n",
       "      <td>3.24</td>\n",
       "      <td>0.36</td>\n",
       "      <td>9.6</td>\n",
       "      <td>6</td>\n",
       "    </tr>\n",
       "    <tr>\n",
       "      <th>17</th>\n",
       "      <td>white</td>\n",
       "      <td>6.2</td>\n",
       "      <td>0.66</td>\n",
       "      <td>0.48</td>\n",
       "      <td>1.20</td>\n",
       "      <td>0.029</td>\n",
       "      <td>29.0</td>\n",
       "      <td>75.0</td>\n",
       "      <td>0.9892</td>\n",
       "      <td>3.33</td>\n",
       "      <td>0.39</td>\n",
       "      <td>12.8</td>\n",
       "      <td>8</td>\n",
       "    </tr>\n",
       "    <tr>\n",
       "      <th>18</th>\n",
       "      <td>white</td>\n",
       "      <td>7.4</td>\n",
       "      <td>0.34</td>\n",
       "      <td>0.42</td>\n",
       "      <td>1.10</td>\n",
       "      <td>0.033</td>\n",
       "      <td>17.0</td>\n",
       "      <td>171.0</td>\n",
       "      <td>0.9917</td>\n",
       "      <td>3.12</td>\n",
       "      <td>0.53</td>\n",
       "      <td>11.3</td>\n",
       "      <td>6</td>\n",
       "    </tr>\n",
       "    <tr>\n",
       "      <th>19</th>\n",
       "      <td>white</td>\n",
       "      <td>6.5</td>\n",
       "      <td>0.31</td>\n",
       "      <td>0.14</td>\n",
       "      <td>7.50</td>\n",
       "      <td>0.044</td>\n",
       "      <td>34.0</td>\n",
       "      <td>133.0</td>\n",
       "      <td>0.9955</td>\n",
       "      <td>3.22</td>\n",
       "      <td>0.50</td>\n",
       "      <td>9.5</td>\n",
       "      <td>5</td>\n",
       "    </tr>\n",
       "  </tbody>\n",
       "</table>\n",
       "</div>"
      ],
      "text/plain": [
       "     type  fixed acidity  volatile acidity  citric acid  residual sugar  \\\n",
       "0   white            7.0              0.27         0.36           20.70   \n",
       "1   white            6.3              0.30         0.34            1.60   \n",
       "2   white            8.1              0.28         0.40            6.90   \n",
       "3   white            7.2              0.23         0.32            8.50   \n",
       "4   white            7.2              0.23         0.32            8.50   \n",
       "5   white            8.1              0.28         0.40            6.90   \n",
       "6   white            6.2              0.32         0.16            7.00   \n",
       "7   white            7.0              0.27         0.36           20.70   \n",
       "8   white            6.3              0.30         0.34            1.60   \n",
       "9   white            8.1              0.22         0.43            1.50   \n",
       "10  white            8.1              0.27         0.41            1.45   \n",
       "11  white            8.6              0.23         0.40            4.20   \n",
       "12  white            7.9              0.18         0.37            1.20   \n",
       "13  white            6.6              0.16         0.40            1.50   \n",
       "14  white            8.3              0.42         0.62           19.25   \n",
       "15  white            6.6              0.17         0.38            1.50   \n",
       "16  white            6.3              0.48         0.04            1.10   \n",
       "17  white            6.2              0.66         0.48            1.20   \n",
       "18  white            7.4              0.34         0.42            1.10   \n",
       "19  white            6.5              0.31         0.14            7.50   \n",
       "\n",
       "    chlorides  free sulfur dioxide  total sulfur dioxide  density    pH  \\\n",
       "0       0.045                 45.0                 170.0   1.0010  3.00   \n",
       "1       0.049                 14.0                 132.0   0.9940  3.30   \n",
       "2       0.050                 30.0                  97.0   0.9951  3.26   \n",
       "3       0.058                 47.0                 186.0   0.9956  3.19   \n",
       "4       0.058                 47.0                 186.0   0.9956  3.19   \n",
       "5       0.050                 30.0                  97.0   0.9951  3.26   \n",
       "6       0.045                 30.0                 136.0   0.9949  3.18   \n",
       "7       0.045                 45.0                 170.0   1.0010  3.00   \n",
       "8       0.049                 14.0                 132.0   0.9940  3.30   \n",
       "9       0.044                 28.0                 129.0   0.9938  3.22   \n",
       "10      0.033                 11.0                  63.0   0.9908  2.99   \n",
       "11      0.035                 17.0                 109.0   0.9947  3.14   \n",
       "12      0.040                 16.0                  75.0   0.9920  3.18   \n",
       "13      0.044                 48.0                 143.0   0.9912  3.54   \n",
       "14      0.040                 41.0                 172.0   1.0002  2.98   \n",
       "15      0.032                 28.0                 112.0   0.9914  3.25   \n",
       "16      0.046                 30.0                  99.0   0.9928  3.24   \n",
       "17      0.029                 29.0                  75.0   0.9892  3.33   \n",
       "18      0.033                 17.0                 171.0   0.9917  3.12   \n",
       "19      0.044                 34.0                 133.0   0.9955  3.22   \n",
       "\n",
       "    sulphates  alcohol  quality  \n",
       "0        0.45      8.8        6  \n",
       "1        0.49      9.5        6  \n",
       "2        0.44     10.1        6  \n",
       "3        0.40      9.9        6  \n",
       "4        0.40      9.9        6  \n",
       "5        0.44     10.1        6  \n",
       "6        0.47      9.6        6  \n",
       "7        0.45      8.8        6  \n",
       "8        0.49      9.5        6  \n",
       "9        0.45     11.0        6  \n",
       "10       0.56     12.0        5  \n",
       "11       0.53      9.7        5  \n",
       "12       0.63     10.8        5  \n",
       "13       0.52     12.4        7  \n",
       "14       0.67      9.7        5  \n",
       "15       0.55     11.4        7  \n",
       "16       0.36      9.6        6  \n",
       "17       0.39     12.8        8  \n",
       "18       0.53     11.3        6  \n",
       "19       0.50      9.5        5  "
      ]
     },
     "execution_count": 12,
     "metadata": {},
     "output_type": "execute_result"
    }
   ],
   "source": [
    "wine_data.head(20)"
   ]
  },
  {
   "cell_type": "code",
   "execution_count": null,
   "id": "df67b4e7",
   "metadata": {},
   "outputs": [],
   "source": []
  }
 ],
 "metadata": {
  "kernelspec": {
   "display_name": "Python 3 (ipykernel)",
   "language": "python",
   "name": "python3"
  },
  "language_info": {
   "codemirror_mode": {
    "name": "ipython",
    "version": 3
   },
   "file_extension": ".py",
   "mimetype": "text/x-python",
   "name": "python",
   "nbconvert_exporter": "python",
   "pygments_lexer": "ipython3",
   "version": "3.9.9"
  }
 },
 "nbformat": 4,
 "nbformat_minor": 5
}
